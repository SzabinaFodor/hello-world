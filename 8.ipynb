{
 "cells": [
  {
   "cell_type": "markdown",
   "id": "7558466a",
   "metadata": {},
   "source": [
    "## 8. gyakorlat - Függvények, modulok "
   ]
  },
  {
   "cell_type": "markdown",
   "id": "aa609c2e",
   "metadata": {},
   "source": [
    "1. feladat: Írjon egy függvényt, amely ellenőrzi, hogy egy N szám prím-e!<br>\n",
    "•\tKeresse meg a 2-től √N-ig terjedő osztókat.<br>\n",
    "•\tHasználd ezt a függvényt az 1 és 100 közötti prímszámok megjelenítésére!<br>\n",
    "•\t<i>Opcionális: használjon más prímszám tesztet, például a Fermat-módszert. A Fermat-módszer esetében próbáld ki egy álprímszámmal is, pl. 341.</i><br>"
   ]
  },
  {
   "cell_type": "code",
   "execution_count": null,
   "id": "045fee9f",
   "metadata": {},
   "outputs": [],
   "source": [
    "def prim_e(N):\n",
    "    i=2\n",
    "    while i<=N**0.5 and N % i!=0:\n",
    "        i=i+1\n",
    "    return i>N**0.5 and N>1\n",
    "\n",
    "\n",
    "for j in range(1,101):\n",
    "    if prim_e(j):\n",
    "        print(j)\n"
   ]
  },
  {
   "cell_type": "markdown",
   "id": "3363e84b",
   "metadata": {},
   "source": [
    "2.\tfeladat: Írjon egy eljárást az első N Fibonacci-szám megjelenítésére!<br>\n",
    "•\tAz N legyen kötelező paraméter.<br>\n",
    "•\tA nulladik és az első elem legyen opcionális paraméter, alapértelmezett értékkel. <br>\n",
    "•\tAz alábbi képlet segítségével számítsa ki az n-edik <br>\n",
    "Fibonacci-számot: F_n=F_(n-1)+F_(n-2) (n > 1)<br>"
   ]
  },
  {
   "cell_type": "code",
   "execution_count": null,
   "id": "20aeb3eb",
   "metadata": {},
   "outputs": [],
   "source": [
    "\n"
   ]
  },
  {
   "cell_type": "code",
   "execution_count": 11,
   "id": "e78234dc",
   "metadata": {},
   "outputs": [
    {
     "name": "stdout",
     "output_type": "stream",
     "text": [
      "2\n",
      "30\n",
      "1 1 2 3 5 8 13 21 34 55 89 "
     ]
    }
   ],
   "source": [
    "#2 Rekurzió segítségével\n",
    "def fibonacci(n, f0=1, f1=1):\n",
    "    if n==0:\n",
    "        return f0\n",
    "    elif n==1:\n",
    "        return f1\n",
    "    else:\n",
    "        return fibonacci(n-2, f0, f1)+fibonacci(n-1, f0, f1)\n",
    "\n",
    "def fszamok(N):\n",
    "    for i in range(N+1):\n",
    "        print(fibonacci(i), end=\" \")\n",
    "\n",
    "print(fibonacci(2))\n",
    "print(fibonacci(2, 10, 20))\n",
    "fszamok(10)"
   ]
  },
  {
   "cell_type": "markdown",
   "id": "048942b9",
   "metadata": {},
   "source": [
    "3.\tfeladat: Írjon függvényt az n szám faktoriálisának kiszámítására. Ennek segítségével ..<br>\n",
    "•\tkészítsen új függvényt a binomiális együttható kiszámítására a következő képlet szerint: <br>\n",
    "•\tC(n,r) = n!/(r! * (n-r)!)<br>\n",
    "•\thozzon létre egy eljárást a Pascal-háromszög első N sorának megjelenítésére.<br>"
   ]
  },
  {
   "cell_type": "code",
   "execution_count": null,
   "id": "74b109b8",
   "metadata": {},
   "outputs": [],
   "source": [
    "\n"
   ]
  },
  {
   "cell_type": "markdown",
   "id": "3077cc76",
   "metadata": {},
   "source": [
    "4.\tfeladat: Írjon egy programot, amely három logikai részre van osztva:<br>\n",
    "•\tAz első rész: n véletlen egész számot generál a és b között, és egy listába helyezi őket.<br>\n",
    "•\tA második rész: a lista elemeit növekvő sorrendbe rendezi (bármilyen tanult rendezési algoritmust használhat).<br>\n",
    "•\tA harmadik rész: megjeleníti az eredeti és a rendezett listát. <br>\n",
    "•\tHasználjon függvényeket és/vagy eljárásokat a feladat megoldásához. Kérdezze meg a felhasználótól az n, a és b értékeit.<br>"
   ]
  },
  {
   "cell_type": "code",
   "execution_count": 16,
   "id": "07b73d5b",
   "metadata": {},
   "outputs": [
    {
     "name": "stdout",
     "output_type": "stream",
     "text": [
      "hany szamot készítsek?10\n",
      "minimum ertek1\n",
      "maximum ertek10\n",
      "[6, 7, 7, 9, 3, 6, 8, 10, 6, 7]\n"
     ]
    }
   ],
   "source": [
    "import random\n",
    "\n",
    "def veletlenlista(n,a,b):\n",
    "    return [random.randint(a,b) for i in range(n)]\n",
    "\n",
    "def listarendezes(lista):\n",
    "    hossz = len(lista)\n",
    "    for i in range(hossz):\n",
    "        for j in range(i+1, hossz):\n",
    "            if lista[j]<lista[i]:\n",
    "                lista[j], lista[i] = lista[i], lista[j]\n",
    "    return lista\n",
    "\n",
    "def listakiiras(lista):\n",
    "    print(lista)\n",
    "\n",
    "n = int(input(\"hany szamot készítsek?\"))\n",
    "a = int(input(\"minimum ertek\"))\n",
    "b = int(input(\"maximum ertek\"))\n",
    "\n",
    "v0 = veletlenlista(n, a, b)\n",
    "print(v0[:])\n",
    "#print(\"Eredeti:\", v0)\n",
    "#v1 = listarendezes(v0[:])\n",
    "#listakiiras(v1)\n",
    "#listakiiras(v0)"
   ]
  },
  {
   "cell_type": "markdown",
   "id": "d8c35e60",
   "metadata": {},
   "source": [
    "5. feladat: Írj egy olyan függvényt, amely egy paraméterként kapott szöveg karaktereinek gyakoriságát tartalmazó szótárat ad vissza.<br>\n",
    "•\tPéldául, ha a szöveg a következő: \"Hello World\", <br>\n",
    "•\tAz eredmény legyen: {H: 1, e: 1, l: 3, o: 2, W: 1, r: 1, d: 1 }<br>\n",
    "•\tKettőzzük meg a szótár minden egyes értékét a map és lambda függvények segítségével!<br>\n",
    "•\tSzűrje a szótárat filter és lambda függvények segítségével úgy, hogy csak azokat a kulcs-érték párokat tartja meg, amelyek értéke osztható 3-mal!<br>\n"
   ]
  },
  {
   "cell_type": "code",
   "execution_count": null,
   "id": "e7350093",
   "metadata": {},
   "outputs": [],
   "source": []
  },
  {
   "cell_type": "markdown",
   "id": "c32c9ded",
   "metadata": {},
   "source": [
    "6. feladat: Írjon egy olyan modult, amely függvények segítségével alapvető műveleteket hajt végre háromdimenziós vektorokon.<br>\n",
    "•\tMegvalósítandó: összeadás, kivonás, szorzás egy számmal, skaláris szorzás <br>\n",
    "•\tÍrjon egy olyan programot, amely importálja ezt a modult, és végrehajt néhány vektorműveletet (minden típusból legalább egyet).<br>"
   ]
  },
  {
   "cell_type": "code",
   "execution_count": 1,
   "id": "31c362be",
   "metadata": {},
   "outputs": [
    {
     "name": "stdout",
     "output_type": "stream",
     "text": [
      "[2, 3, 4]\n",
      "[0, 1, 2]\n"
     ]
    }
   ],
   "source": [
    "import vektor\n",
    "\n",
    "a = [1,2,3]\n",
    "b = [1,1,1]\n",
    "c = vektor.osszead(a,b)\n",
    "print(c)\n",
    "d= vektor.kivonas(a,b)\n",
    "print(d)"
   ]
  },
  {
   "cell_type": "markdown",
   "id": "008c2bbc",
   "metadata": {},
   "source": [
    "Házi feladat: Írjon egy Python függvényt annak ellenőrzésére, hogy egy szám palindromikus-e vagy sem. <i>(A palindromikus szám olyan szám (például a 121), amely ugyanaz marad, ha a számjegyeit felcseréljük.)</i><br>\n",
    "•\tA függvény segítségével jelenítse meg az összes palindromikus számot 1 és 500 között.\n"
   ]
  },
  {
   "cell_type": "code",
   "execution_count": null,
   "id": "44bc65f6",
   "metadata": {},
   "outputs": [],
   "source": []
  }
 ],
 "metadata": {
  "kernelspec": {
   "display_name": "Python 3 (ipykernel)",
   "language": "python",
   "name": "python3"
  },
  "language_info": {
   "codemirror_mode": {
    "name": "ipython",
    "version": 3
   },
   "file_extension": ".py",
   "mimetype": "text/x-python",
   "name": "python",
   "nbconvert_exporter": "python",
   "pygments_lexer": "ipython3",
   "version": "3.10.9"
  }
 },
 "nbformat": 4,
 "nbformat_minor": 5
}
